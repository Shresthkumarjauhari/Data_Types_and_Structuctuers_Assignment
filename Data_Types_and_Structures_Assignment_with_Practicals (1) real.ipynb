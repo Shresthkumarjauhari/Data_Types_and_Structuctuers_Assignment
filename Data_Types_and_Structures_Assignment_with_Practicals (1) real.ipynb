{
  "cells": [
    {
      "cell_type": "markdown",
      "id": "0fc46402",
      "metadata": {
        "id": "0fc46402"
      },
      "source": [
        "#  Data Types and Structures Assignment – Python\n",
        "\n",
        "---\n",
        "\n",
        "### 1. **What are data structures, and why are they important?**\n",
        "\n",
        "Data structures are special formats to organize, store, and manage data efficiently. They help us perform operations like searching, adding, deleting, and updating data quickly.\n",
        "\n",
        " Example: Lists, dictionaries, sets, and tuples in Python.\n",
        "\n",
        " **Why important?**  \n",
        "- Save time and memory  \n",
        "- Help in writing clean and fast code  \n",
        "- Make it easier to solve real-world problems\n",
        "\n",
        "---\n",
        "\n",
        "### 2. **Explain the difference between mutable and immutable data types with examples.**\n",
        "\n",
        "- **Mutable** means **changeable** after creation.  \n",
        "- **Immutable** means **unchangeable** once created.\n",
        "\n",
        " Examples:\n",
        "- **Mutable**: List → `my_list = [1, 2, 3]` → You can change an item: `my_list[0] = 10`\n",
        "- **Immutable**: Tuple → `my_tuple = (1, 2, 3)` → You can't do: `my_tuple[0] = 10` (this gives error)\n",
        "\n",
        "---\n",
        "\n",
        "### 3. **What are the main differences between lists and tuples in Python?**\n",
        "\n",
        "| Feature     | List (`[]`) | Tuple (`()`) |\n",
        "|-------------|-------------|---------------|\n",
        "| Mutability  | Mutable     | Immutable     |\n",
        "| Speed       | Slower      | Faster        |\n",
        "| Use case    | Frequent changes | Fixed data |\n",
        "| Syntax      | `[1, 2, 3]` | `(1, 2, 3)`   |\n",
        "\n",
        "---\n",
        "\n",
        "### 4. **Describe how dictionaries store data.**\n",
        "\n",
        "Dictionaries store data in **key-value** pairs.  \n",
        "Each key is unique, and it points to a value.\n",
        "\n",
        " Example:\n",
        "```python\n",
        "student = {\"name\": \"Shresth\", \"age\": 22}\n",
        "```\n",
        "\n",
        "---\n",
        "\n",
        "### 5. **Why might you use a set instead of a list in Python?**\n",
        "\n",
        "Sets:\n",
        "- **Do not allow duplicates**\n",
        "- Are **faster** for checking if an item exists (`in` operator)\n",
        "\n",
        " Useful when you want **unique items only**, like a list of unique visitors to a website.\n",
        "\n",
        "---\n",
        "\n",
        "### 6. **What is a string in Python, and how is it different from a list?**\n",
        "\n",
        "A string is a sequence of characters like `\"hello\"`.  \n",
        "A list is a sequence of items (can be anything).\n",
        "\n",
        " Difference:\n",
        "- Strings are **immutable**\n",
        "- Lists are **mutable**\n",
        "- You can have different types in a list; strings only contain characters.\n",
        "\n",
        "---\n",
        "\n",
        "### 7. **How do tuples ensure data integrity in Python?**\n",
        "\n",
        "Tuples are **immutable** — once created, their values **can’t be changed**.  \n",
        "This means the data stays safe and can't be accidentally modified.\n",
        "\n",
        "---\n",
        "\n",
        "### 8. **What is a hash table, and how does it relate to dictionaries in Python?**\n",
        "\n",
        "A **hash table** is a data structure that stores data using a **key and a hash function**.  \n",
        "Python’s **dictionary** is built on top of hash tables.\n",
        "\n",
        "---\n",
        "\n",
        "### 9. **Can lists contain different data types in Python?**\n",
        "\n",
        " Yes! Lists can hold **mixed data types**.\n",
        "\n",
        "---\n",
        "\n",
        "### 10. **Explain why strings are immutable in Python.**\n",
        "\n",
        "Strings are immutable to:\n",
        "- Save memory\n",
        "- Make code more predictable\n",
        "- Improve performance when used as keys in dictionaries (because immutable = hashable)\n",
        "\n",
        "---\n",
        "\n",
        "### 11. **What advantages do dictionaries offer over lists for certain tasks?**\n",
        "\n",
        " **Fast lookup** by key  \n",
        " **More meaningful data storage** using keys  \n",
        " **Avoids searching through index numbers**\n",
        "\n",
        "---\n",
        "\n",
        "### 12. **How do sets handle duplicate values in Python?**\n",
        "\n",
        "Sets **automatically remove duplicates**.\n",
        "\n",
        "---\n",
        "\n",
        "### 13. **Describe a scenario where using a tuple would be preferable over a list.**\n",
        "\n",
        "If you want to store a user's **date of birth**:  \n",
        "```python\n",
        "dob = (2001, 11, 10)\n",
        "```\n",
        "\n",
        "Since this info won’t change, a **tuple** is best for **data safety**.\n",
        "\n",
        "---\n",
        "\n",
        "### 14. **How does the `in` keyword work differently for lists and dictionaries?**\n",
        "\n",
        "- In **lists**, `in` checks **values**\n",
        "- In **dictionaries**, `in` checks **keys only**\n",
        "\n",
        "---\n",
        "\n",
        "### 15. **Can you modify the elements of a tuple? Explain why or why not.**\n",
        "\n",
        " No, you **cannot** modify a tuple.  \n",
        "Because tuples are **immutable**, any attempt to change them will raise an error.\n",
        "\n",
        "---\n",
        "\n",
        "### 16. **What is a nested dictionary, and give an example of its use case.**\n",
        "\n",
        "A **nested dictionary** is a dictionary inside another dictionary.\n",
        "\n",
        " Example:\n",
        "```python\n",
        "students = {\n",
        "    \"101\": {\"name\": \"Amit\", \"age\": 20},\n",
        "    \"102\": {\"name\": \"Priya\", \"age\": 22}\n",
        "}\n",
        "```\n",
        "\n",
        "---\n",
        "\n",
        "### 17. **Describe the time complexity of accessing elements in a dictionary.**\n",
        "\n",
        " **Time Complexity:** `O(1)` on average\n",
        "\n",
        "---\n",
        "\n",
        "### 18. **In what situations are lists preferred over dictionaries?**\n",
        "\n",
        " When **order matters**  \n",
        " When you only need **values**, not key-value pairs  \n",
        " When data is **simple** and doesn't need labels\n",
        "\n",
        "---\n",
        "\n",
        "### 19. **Why are dictionaries considered unordered, and how does that affect data retrieval?**\n",
        "\n",
        "Traditionally, dictionaries were unordered (before Python 3.7).  \n",
        "That means:\n",
        "- You **can't rely** on the order of items.\n",
        "- **Retrieval is by key**, not by position/index.\n",
        "\n",
        "---\n",
        "\n",
        "### 20. **Explain the difference between a list and a dictionary in terms of data retrieval.**\n",
        "\n",
        "| Feature         | List                     | Dictionary                    |\n",
        "|------------------|--------------------------|-------------------------------|\n",
        "| Access by        | Index number             | Key                           |\n",
        "| Speed            | Slower for searching     | Faster (constant time lookup) |\n",
        "| Use when         | Order matters            | Need key-value association    |\n",
        "\n",
        "---\n",
        "\n"
      ]
    },
    {
      "cell_type": "markdown",
      "id": "95d4e83c",
      "metadata": {
        "id": "95d4e83c"
      },
      "source": [
        "#  Practical Questions on Python Data Types and Structures"
      ]
    },
    {
      "cell_type": "markdown",
      "id": "acac4f6a",
      "metadata": {
        "id": "acac4f6a"
      },
      "source": [
        "### 1. Write a code to create a string with your name and print it"
      ]
    },
    {
      "cell_type": "code",
      "execution_count": 30,
      "id": "43949e23",
      "metadata": {
        "colab": {
          "base_uri": "https://localhost:8080/"
        },
        "id": "43949e23",
        "outputId": "deb287d7-2755-4cff-ae70-1156ede41fd5"
      },
      "outputs": [
        {
          "output_type": "stream",
          "name": "stdout",
          "text": [
            "Shresth\n"
          ]
        }
      ],
      "source": [
        "my_name = \"Shresth\"\n",
        "print(my_name)"
      ]
    },
    {
      "cell_type": "markdown",
      "id": "e2d719bb",
      "metadata": {
        "id": "e2d719bb"
      },
      "source": [
        "### 2. Write a code to find the length of the string 'Hello World'"
      ]
    },
    {
      "cell_type": "code",
      "execution_count": 29,
      "id": "704de57c",
      "metadata": {
        "colab": {
          "base_uri": "https://localhost:8080/"
        },
        "id": "704de57c",
        "outputId": "2857f2d4-4ad3-4a41-b3fc-a4ff2ec49716"
      },
      "outputs": [
        {
          "output_type": "stream",
          "name": "stdout",
          "text": [
            "11\n"
          ]
        }
      ],
      "source": [
        "print(len(\"Hello World\"))"
      ]
    },
    {
      "cell_type": "markdown",
      "id": "ed18d13a",
      "metadata": {
        "id": "ed18d13a"
      },
      "source": [
        "### 3. Write a code to slice the first 3 characters from the string 'Python Programming'"
      ]
    },
    {
      "cell_type": "code",
      "execution_count": 28,
      "id": "1089b19f",
      "metadata": {
        "colab": {
          "base_uri": "https://localhost:8080/"
        },
        "id": "1089b19f",
        "outputId": "4544dc74-679f-4f0f-b2a4-2c4e4fef43f8"
      },
      "outputs": [
        {
          "output_type": "stream",
          "name": "stdout",
          "text": [
            "Pyt\n"
          ]
        }
      ],
      "source": [
        "s = \"Python Programming\"\n",
        "print(s[:3])"
      ]
    },
    {
      "cell_type": "markdown",
      "id": "056b344d",
      "metadata": {
        "id": "056b344d"
      },
      "source": [
        "### 4. Write a code to convert the string 'hello' to uppercase"
      ]
    },
    {
      "cell_type": "code",
      "execution_count": 27,
      "id": "f7bb2a3a",
      "metadata": {
        "colab": {
          "base_uri": "https://localhost:8080/"
        },
        "id": "f7bb2a3a",
        "outputId": "14159761-f157-44e2-b445-6ce51e4684cd"
      },
      "outputs": [
        {
          "output_type": "stream",
          "name": "stdout",
          "text": [
            "HELLO\n"
          ]
        }
      ],
      "source": [
        "print(\"hello\".upper())"
      ]
    },
    {
      "cell_type": "markdown",
      "id": "476c2ea0",
      "metadata": {
        "id": "476c2ea0"
      },
      "source": [
        "### 5. Write a code to replace the word 'apple' with 'orange' in the string 'I like apple'"
      ]
    },
    {
      "cell_type": "code",
      "execution_count": 26,
      "id": "49c96d0b",
      "metadata": {
        "colab": {
          "base_uri": "https://localhost:8080/"
        },
        "id": "49c96d0b",
        "outputId": "9b5cae6a-c7bf-4771-ef4e-61b448d899af"
      },
      "outputs": [
        {
          "output_type": "stream",
          "name": "stdout",
          "text": [
            "I like orange\n"
          ]
        }
      ],
      "source": [
        "s = \"I like apple\"\n",
        "print(s.replace(\"apple\", \"orange\"))"
      ]
    },
    {
      "cell_type": "markdown",
      "id": "5cf2e06e",
      "metadata": {
        "id": "5cf2e06e"
      },
      "source": [
        "### 6. Write a code to create a list with numbers 1 to 5 and print it"
      ]
    },
    {
      "cell_type": "code",
      "execution_count": 25,
      "id": "41df5283",
      "metadata": {
        "colab": {
          "base_uri": "https://localhost:8080/"
        },
        "id": "41df5283",
        "outputId": "f38d36ed-f185-4ebe-8816-ef42dcc5f8e2"
      },
      "outputs": [
        {
          "output_type": "stream",
          "name": "stdout",
          "text": [
            "[1, 2, 3, 4, 5]\n"
          ]
        }
      ],
      "source": [
        "numbers = [1, 2, 3, 4, 5]\n",
        "print(numbers)"
      ]
    },
    {
      "cell_type": "markdown",
      "id": "6916a82e",
      "metadata": {
        "id": "6916a82e"
      },
      "source": [
        "### 7. Write a code to append the number 10 to the list [1, 2, 3, 4]"
      ]
    },
    {
      "cell_type": "code",
      "execution_count": 24,
      "id": "cd0c467c",
      "metadata": {
        "colab": {
          "base_uri": "https://localhost:8080/"
        },
        "id": "cd0c467c",
        "outputId": "840fd239-28c3-4800-eaf0-b21a5673fe60"
      },
      "outputs": [
        {
          "output_type": "stream",
          "name": "stdout",
          "text": [
            "[1, 2, 3, 4, 10]\n"
          ]
        }
      ],
      "source": [
        "lst = [1, 2, 3, 4]\n",
        "lst.append(10)\n",
        "print(lst)"
      ]
    },
    {
      "cell_type": "markdown",
      "id": "2a1017af",
      "metadata": {
        "id": "2a1017af"
      },
      "source": [
        "### 8. Write a code to remove the number 3 from the list [1, 2, 3, 4, 5]"
      ]
    },
    {
      "cell_type": "code",
      "execution_count": 23,
      "id": "5d0a1133",
      "metadata": {
        "colab": {
          "base_uri": "https://localhost:8080/"
        },
        "id": "5d0a1133",
        "outputId": "fff114d8-767d-4654-dc4b-77afcf8a3830"
      },
      "outputs": [
        {
          "output_type": "stream",
          "name": "stdout",
          "text": [
            "[1, 2, 4, 5]\n"
          ]
        }
      ],
      "source": [
        "lst = [1, 2, 3, 4, 5]\n",
        "lst.remove(3)\n",
        "print(lst)"
      ]
    },
    {
      "cell_type": "markdown",
      "id": "15355f90",
      "metadata": {
        "id": "15355f90"
      },
      "source": [
        "### 9. Write a code to access the second element in the list ['a', 'b', 'c', 'd']"
      ]
    },
    {
      "cell_type": "code",
      "execution_count": 22,
      "id": "a0d349f9",
      "metadata": {
        "colab": {
          "base_uri": "https://localhost:8080/"
        },
        "id": "a0d349f9",
        "outputId": "6b2c4f08-bbcd-4f9d-b01e-ce7251814fd1"
      },
      "outputs": [
        {
          "output_type": "stream",
          "name": "stdout",
          "text": [
            "b\n"
          ]
        }
      ],
      "source": [
        "lst = ['a', 'b', 'c', 'd']\n",
        "print(lst[1])"
      ]
    },
    {
      "cell_type": "markdown",
      "id": "73e0a4d5",
      "metadata": {
        "id": "73e0a4d5"
      },
      "source": [
        "### 10. Write a code to reverse the list [10, 20, 30, 40, 50]"
      ]
    },
    {
      "cell_type": "code",
      "execution_count": 21,
      "id": "f6a5c36f",
      "metadata": {
        "colab": {
          "base_uri": "https://localhost:8080/"
        },
        "id": "f6a5c36f",
        "outputId": "81b92e1e-2863-46ca-a08a-2ce55ec2a79b"
      },
      "outputs": [
        {
          "output_type": "stream",
          "name": "stdout",
          "text": [
            "[50, 40, 30, 20, 10]\n"
          ]
        }
      ],
      "source": [
        "lst = [10, 20, 30, 40, 50]\n",
        "lst.reverse()\n",
        "print(lst)"
      ]
    },
    {
      "cell_type": "markdown",
      "id": "70d4d4fd",
      "metadata": {
        "id": "70d4d4fd"
      },
      "source": [
        "### 11. Write a code to create a tuple with the elements 100, 200, 300 and print it"
      ]
    },
    {
      "cell_type": "code",
      "execution_count": 20,
      "id": "d7b8c774",
      "metadata": {
        "colab": {
          "base_uri": "https://localhost:8080/"
        },
        "id": "d7b8c774",
        "outputId": "857bc75f-4697-4d14-95c9-8cccd091e9c6"
      },
      "outputs": [
        {
          "output_type": "stream",
          "name": "stdout",
          "text": [
            "(100, 200, 300)\n"
          ]
        }
      ],
      "source": [
        "t = (100, 200, 300)\n",
        "print(t)"
      ]
    },
    {
      "cell_type": "markdown",
      "id": "b8eb5344",
      "metadata": {
        "id": "b8eb5344"
      },
      "source": [
        "### 12. Write a code to access the second-to-last element of the tuple ('red', 'green', 'blue', 'yellow')"
      ]
    },
    {
      "cell_type": "code",
      "execution_count": 19,
      "id": "9e83ef02",
      "metadata": {
        "colab": {
          "base_uri": "https://localhost:8080/"
        },
        "id": "9e83ef02",
        "outputId": "266c5fcd-7e22-44f3-d699-f45238c4646d"
      },
      "outputs": [
        {
          "output_type": "stream",
          "name": "stdout",
          "text": [
            "blue\n"
          ]
        }
      ],
      "source": [
        "colors = ('red', 'green', 'blue', 'yellow')\n",
        "print(colors[-2])"
      ]
    },
    {
      "cell_type": "markdown",
      "id": "1f3b51e6",
      "metadata": {
        "id": "1f3b51e6"
      },
      "source": [
        "### 13. Write a code to find the minimum number in the tuple (10, 20, 5, 15)"
      ]
    },
    {
      "cell_type": "code",
      "execution_count": 18,
      "id": "136f2c4a",
      "metadata": {
        "colab": {
          "base_uri": "https://localhost:8080/"
        },
        "id": "136f2c4a",
        "outputId": "d9c041a3-0d57-4bd9-dcd1-017364388f65"
      },
      "outputs": [
        {
          "output_type": "stream",
          "name": "stdout",
          "text": [
            "5\n"
          ]
        }
      ],
      "source": [
        "nums = (10, 20, 5, 15)\n",
        "print(min(nums))"
      ]
    },
    {
      "cell_type": "markdown",
      "id": "58fbf027",
      "metadata": {
        "id": "58fbf027"
      },
      "source": [
        "### 14. Write a code to find the index of the element 'cat' in the tuple ('dog', 'cat', 'rabbit')"
      ]
    },
    {
      "cell_type": "code",
      "execution_count": 17,
      "id": "e3e2af3d",
      "metadata": {
        "colab": {
          "base_uri": "https://localhost:8080/"
        },
        "id": "e3e2af3d",
        "outputId": "d95068a8-4c9a-4e77-b72e-9b6aeadbe4fa"
      },
      "outputs": [
        {
          "output_type": "stream",
          "name": "stdout",
          "text": [
            "1\n"
          ]
        }
      ],
      "source": [
        "animals = ('dog', 'cat', 'rabbit')\n",
        "print(animals.index('cat'))"
      ]
    },
    {
      "cell_type": "markdown",
      "id": "79b65825",
      "metadata": {
        "id": "79b65825"
      },
      "source": [
        "### 15. Write a code to create a tuple containing three different fruits and check if 'kiwi' is in it"
      ]
    },
    {
      "cell_type": "code",
      "execution_count": 16,
      "id": "cdcff51c",
      "metadata": {
        "colab": {
          "base_uri": "https://localhost:8080/"
        },
        "id": "cdcff51c",
        "outputId": "f46048ce-e096-4c31-b4e9-ef73dfb186e6"
      },
      "outputs": [
        {
          "output_type": "stream",
          "name": "stdout",
          "text": [
            "False\n"
          ]
        }
      ],
      "source": [
        "fruits = ('apple', 'banana', 'mango')\n",
        "print('kiwi' in fruits)"
      ]
    },
    {
      "cell_type": "markdown",
      "id": "438bbbfd",
      "metadata": {
        "id": "438bbbfd"
      },
      "source": [
        "### 16. Write a code to create a set with the elements 'a', 'b', 'c' and print it"
      ]
    },
    {
      "cell_type": "code",
      "execution_count": 15,
      "id": "b983d84b",
      "metadata": {
        "colab": {
          "base_uri": "https://localhost:8080/"
        },
        "id": "b983d84b",
        "outputId": "7e022e40-206b-4269-eaee-aff65b4ef32c"
      },
      "outputs": [
        {
          "output_type": "stream",
          "name": "stdout",
          "text": [
            "{'a', 'c', 'b'}\n"
          ]
        }
      ],
      "source": [
        "s = {'a', 'b', 'c'}\n",
        "print(s)"
      ]
    },
    {
      "cell_type": "markdown",
      "id": "6a2b0029",
      "metadata": {
        "id": "6a2b0029"
      },
      "source": [
        "### 17. Write a code to clear all elements from the set {1, 2, 3, 4, 5}"
      ]
    },
    {
      "cell_type": "code",
      "execution_count": 14,
      "id": "89f05932",
      "metadata": {
        "colab": {
          "base_uri": "https://localhost:8080/"
        },
        "id": "89f05932",
        "outputId": "ee76a3d8-f2ec-49aa-d4a9-be099f4bdc63"
      },
      "outputs": [
        {
          "output_type": "stream",
          "name": "stdout",
          "text": [
            "set()\n"
          ]
        }
      ],
      "source": [
        "s = {1, 2, 3, 4, 5}\n",
        "s.clear()\n",
        "print(s)"
      ]
    },
    {
      "cell_type": "markdown",
      "id": "42a85981",
      "metadata": {
        "id": "42a85981"
      },
      "source": [
        "### 18. Write a code to remove the element 4 from the set {1, 2, 3, 4}"
      ]
    },
    {
      "cell_type": "code",
      "execution_count": 13,
      "id": "857d78dc",
      "metadata": {
        "colab": {
          "base_uri": "https://localhost:8080/"
        },
        "id": "857d78dc",
        "outputId": "d098a99d-62ce-49c2-f68d-bd9135e5479a"
      },
      "outputs": [
        {
          "output_type": "stream",
          "name": "stdout",
          "text": [
            "{1, 2, 3}\n"
          ]
        }
      ],
      "source": [
        "s = {1, 2, 3, 4}\n",
        "s.remove(4)\n",
        "print(s)"
      ]
    },
    {
      "cell_type": "markdown",
      "id": "b92b5ab7",
      "metadata": {
        "id": "b92b5ab7"
      },
      "source": [
        "### 19. Write a code to find the union of two sets {1, 2, 3} and {3, 4, 5}"
      ]
    },
    {
      "cell_type": "code",
      "execution_count": 12,
      "id": "ce3be255",
      "metadata": {
        "colab": {
          "base_uri": "https://localhost:8080/"
        },
        "id": "ce3be255",
        "outputId": "29af0a19-7090-40ad-cc0e-c1bc31b7db04"
      },
      "outputs": [
        {
          "output_type": "stream",
          "name": "stdout",
          "text": [
            "{1, 2, 3, 4, 5}\n"
          ]
        }
      ],
      "source": [
        "set1 = {1, 2, 3}\n",
        "set2 = {3, 4, 5}\n",
        "print(set1.union(set2))"
      ]
    },
    {
      "cell_type": "markdown",
      "id": "63e5d70f",
      "metadata": {
        "id": "63e5d70f"
      },
      "source": [
        "### 20. Write a code to find the intersection of two sets {1, 2, 3} and {2, 3, 4}"
      ]
    },
    {
      "cell_type": "code",
      "execution_count": 11,
      "id": "c845cbf9",
      "metadata": {
        "colab": {
          "base_uri": "https://localhost:8080/"
        },
        "id": "c845cbf9",
        "outputId": "e3073344-21cf-4100-81c4-c46da335e94e"
      },
      "outputs": [
        {
          "output_type": "stream",
          "name": "stdout",
          "text": [
            "{2, 3}\n"
          ]
        }
      ],
      "source": [
        "set1 = {1, 2, 3}\n",
        "set2 = {2, 3, 4}\n",
        "print(set1.intersection(set2))"
      ]
    },
    {
      "cell_type": "markdown",
      "id": "dc8426e6",
      "metadata": {
        "id": "dc8426e6"
      },
      "source": [
        "### 21. Write a code to create a dictionary with the keys 'name', 'age', and 'city', and print it"
      ]
    },
    {
      "cell_type": "code",
      "execution_count": 10,
      "id": "7b6e6340",
      "metadata": {
        "colab": {
          "base_uri": "https://localhost:8080/"
        },
        "id": "7b6e6340",
        "outputId": "4873d751-61d6-4df8-f493-8e27ba2ba79a"
      },
      "outputs": [
        {
          "output_type": "stream",
          "name": "stdout",
          "text": [
            "{'name': 'John', 'age': 30, 'city': 'New York'}\n"
          ]
        }
      ],
      "source": [
        "person = {'name': 'John', 'age': 30, 'city': 'New York'}\n",
        "print(person)"
      ]
    },
    {
      "cell_type": "markdown",
      "id": "c1404005",
      "metadata": {
        "id": "c1404005"
      },
      "source": [
        "### 22. Write a code to add a new key-value pair 'country': 'USA' to the dictionary {'name': 'John', 'age': 25}"
      ]
    },
    {
      "cell_type": "code",
      "execution_count": 9,
      "id": "aafad00f",
      "metadata": {
        "colab": {
          "base_uri": "https://localhost:8080/"
        },
        "id": "aafad00f",
        "outputId": "3c2bf122-1a48-40ac-8677-debfe5b9065c"
      },
      "outputs": [
        {
          "output_type": "stream",
          "name": "stdout",
          "text": [
            "{'name': 'John', 'age': 25, 'country': 'USA'}\n"
          ]
        }
      ],
      "source": [
        "person = {'name': 'John', 'age': 25}\n",
        "person['country'] = 'USA'\n",
        "print(person)"
      ]
    },
    {
      "cell_type": "markdown",
      "id": "13026675",
      "metadata": {
        "id": "13026675"
      },
      "source": [
        "### 23. Write a code to access the value associated with the key 'name' in the dictionary {'name': 'Alice', 'age': 30}"
      ]
    },
    {
      "cell_type": "code",
      "execution_count": 8,
      "id": "941cfd43",
      "metadata": {
        "colab": {
          "base_uri": "https://localhost:8080/"
        },
        "id": "941cfd43",
        "outputId": "523eabb9-ff93-4af9-c6d9-c1f24eff3a1d"
      },
      "outputs": [
        {
          "output_type": "stream",
          "name": "stdout",
          "text": [
            "Alice\n"
          ]
        }
      ],
      "source": [
        "data = {'name': 'Alice', 'age': 30}\n",
        "print(data['name'])"
      ]
    },
    {
      "cell_type": "markdown",
      "id": "9625cedd",
      "metadata": {
        "id": "9625cedd"
      },
      "source": [
        "### 24. Write a code to remove the key 'age' from the dictionary {'name': 'Bob', 'age': 22, 'city': 'New York'}"
      ]
    },
    {
      "cell_type": "code",
      "execution_count": 7,
      "id": "ca2bde2b",
      "metadata": {
        "colab": {
          "base_uri": "https://localhost:8080/"
        },
        "id": "ca2bde2b",
        "outputId": "255c84f1-9782-4c5f-b0e7-9fc67b37e779"
      },
      "outputs": [
        {
          "output_type": "stream",
          "name": "stdout",
          "text": [
            "{'name': 'Bob', 'city': 'New York'}\n"
          ]
        }
      ],
      "source": [
        "person = {'name': 'Bob', 'age': 22, 'city': 'New York'}\n",
        "person.pop('age')\n",
        "print(person)"
      ]
    },
    {
      "cell_type": "markdown",
      "id": "9d126c4c",
      "metadata": {
        "id": "9d126c4c"
      },
      "source": [
        "### 25. Write a code to check if the key 'city' exists in the dictionary {'name': 'Alice', 'city': 'Paris'}"
      ]
    },
    {
      "cell_type": "code",
      "execution_count": 6,
      "id": "631ed960",
      "metadata": {
        "colab": {
          "base_uri": "https://localhost:8080/"
        },
        "id": "631ed960",
        "outputId": "887b8468-2d6b-4548-a99d-9f68b26353c6"
      },
      "outputs": [
        {
          "output_type": "stream",
          "name": "stdout",
          "text": [
            "True\n"
          ]
        }
      ],
      "source": [
        "data = {'name': 'Alice', 'city': 'Paris'}\n",
        "print('city' in data)"
      ]
    },
    {
      "cell_type": "markdown",
      "id": "86bd632b",
      "metadata": {
        "id": "86bd632b"
      },
      "source": [
        "### 26. Write a code to create a list, a tuple, and a dictionary, and print them all"
      ]
    },
    {
      "cell_type": "code",
      "execution_count": 5,
      "id": "c1787884",
      "metadata": {
        "colab": {
          "base_uri": "https://localhost:8080/"
        },
        "id": "c1787884",
        "outputId": "749f4f5e-88bf-49ac-9ace-32e0066457c7"
      },
      "outputs": [
        {
          "output_type": "stream",
          "name": "stdout",
          "text": [
            "[1, 2, 3]\n",
            "(4, 5, 6)\n",
            "{'a': 1, 'b': 2}\n"
          ]
        }
      ],
      "source": [
        "my_list = [1, 2, 3]\n",
        "my_tuple = (4, 5, 6)\n",
        "my_dict = {'a': 1, 'b': 2}\n",
        "print(my_list)\n",
        "print(my_tuple)\n",
        "print(my_dict)"
      ]
    },
    {
      "cell_type": "markdown",
      "id": "7cd28790",
      "metadata": {
        "id": "7cd28790"
      },
      "source": [
        "### 27. Write a code to create a list of 5 random numbers between 1 and 100, sort it in ascending order, and print the result"
      ]
    },
    {
      "cell_type": "code",
      "execution_count": 4,
      "id": "6ce38d4d",
      "metadata": {
        "colab": {
          "base_uri": "https://localhost:8080/"
        },
        "id": "6ce38d4d",
        "outputId": "940b1cab-a247-4ba7-cbf0-9ddb4af0fe2a"
      },
      "outputs": [
        {
          "output_type": "stream",
          "name": "stdout",
          "text": [
            "[12, 13, 58, 62, 99]\n"
          ]
        }
      ],
      "source": [
        "import random\n",
        "nums = random.sample(range(1, 101), 5)\n",
        "nums.sort()\n",
        "print(nums)"
      ]
    },
    {
      "cell_type": "markdown",
      "id": "47607bb6",
      "metadata": {
        "id": "47607bb6"
      },
      "source": [
        "### 28. Write a code to create a list with strings and print the element at the third index"
      ]
    },
    {
      "cell_type": "code",
      "execution_count": 3,
      "id": "691a51b4",
      "metadata": {
        "colab": {
          "base_uri": "https://localhost:8080/"
        },
        "id": "691a51b4",
        "outputId": "da4afe1a-1151-4a5c-fe6b-48f6a3bf50b3"
      },
      "outputs": [
        {
          "output_type": "stream",
          "name": "stdout",
          "text": [
            "date\n"
          ]
        }
      ],
      "source": [
        "lst = ['apple', 'banana', 'cherry', 'date']\n",
        "print(lst[3])"
      ]
    },
    {
      "cell_type": "markdown",
      "id": "24c01728",
      "metadata": {
        "id": "24c01728"
      },
      "source": [
        "### 29. Write a code to combine two dictionaries into one and print the result"
      ]
    },
    {
      "cell_type": "code",
      "execution_count": 2,
      "id": "a9021a17",
      "metadata": {
        "colab": {
          "base_uri": "https://localhost:8080/"
        },
        "id": "a9021a17",
        "outputId": "be771d60-42a8-420e-be8c-7ab5f596d05c"
      },
      "outputs": [
        {
          "output_type": "stream",
          "name": "stdout",
          "text": [
            "{'a': 1, 'b': 2, 'c': 3, 'd': 4}\n"
          ]
        }
      ],
      "source": [
        "dict1 = {'a': 1, 'b': 2}\n",
        "dict2 = {'c': 3, 'd': 4}\n",
        "combined = {**dict1, **dict2}\n",
        "print(combined)"
      ]
    },
    {
      "cell_type": "markdown",
      "id": "35da7d45",
      "metadata": {
        "id": "35da7d45"
      },
      "source": [
        "### 30. Write a code to convert a list of strings into a set"
      ]
    },
    {
      "cell_type": "code",
      "execution_count": 1,
      "id": "19ce1b78",
      "metadata": {
        "colab": {
          "base_uri": "https://localhost:8080/"
        },
        "id": "19ce1b78",
        "outputId": "49f570d6-60f4-4a5e-d757-f12bdbc9099e"
      },
      "outputs": [
        {
          "output_type": "stream",
          "name": "stdout",
          "text": [
            "{'cherry', 'banana', 'apple'}\n"
          ]
        }
      ],
      "source": [
        "words = ['apple', 'banana', 'apple', 'cherry']\n",
        "unique_words = set(words)\n",
        "print(unique_words)"
      ]
    }
  ],
  "metadata": {
    "colab": {
      "provenance": []
    },
    "language_info": {
      "name": "python"
    },
    "kernelspec": {
      "name": "python3",
      "display_name": "Python 3"
    }
  },
  "nbformat": 4,
  "nbformat_minor": 5
}